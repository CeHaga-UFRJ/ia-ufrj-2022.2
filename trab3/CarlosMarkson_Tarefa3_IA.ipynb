{
  "nbformat": 4,
  "nbformat_minor": 0,
  "metadata": {
    "colab": {
      "provenance": [],
      "collapsed_sections": []
    },
    "kernelspec": {
      "name": "python3",
      "display_name": "Python 3"
    },
    "language_info": {
      "name": "python"
    }
  },
  "cells": [
    {
      "cell_type": "code",
      "source": [
        "from random import randint, choice"
      ],
      "metadata": {
        "id": "jKN4n1UqwTky"
      },
      "execution_count": null,
      "outputs": []
    },
    {
      "cell_type": "code",
      "execution_count": null,
      "metadata": {
        "id": "sInVvI9FvxHl",
        "colab": {
          "base_uri": "https://localhost:8080/"
        },
        "outputId": "5058ce3a-f39d-4e8d-9cae-c9274d9d0663"
      },
      "outputs": [
        {
          "output_type": "execute_result",
          "data": {
            "text/plain": [
              "[[7, 3, 6, 3, 3, 2, 1, 7],\n",
              " [0, 2, 5, 3, 5, 3, 3, 2],\n",
              " [6, 7, 7, 6, 6, 1, 5, 3],\n",
              " [7, 1, 0, 0, 4, 6, 1, 7],\n",
              " [3, 1, 3, 4, 7, 6, 2, 5],\n",
              " [5, 5, 6, 6, 1, 2, 3, 5],\n",
              " [1, 2, 7, 7, 3, 0, 5, 0],\n",
              " [7, 1, 7, 3, 7, 3, 2, 6],\n",
              " [4, 0, 7, 4, 3, 5, 7, 4],\n",
              " [5, 1, 2, 1, 6, 4, 7, 7]]"
            ]
          },
          "metadata": {},
          "execution_count": 40
        }
      ],
      "source": [
        "def tabuleiro(tamanho, quantidade):\n",
        "  return [[randint(0,tamanho-1) for j in range(tamanho)] for i in range(quantidade)]\n",
        "\n",
        "# tabuleiro(8,10)"
      ]
    },
    {
      "cell_type": "code",
      "source": [
        "def moveRainha(l,i):\n",
        "  return [l[:i] + [k] + l[i+1:] for k in range(0,len(l)) if k != l[i]]\n",
        "\n",
        "def todosVizinhos(T):\n",
        "  vizinhos = []\n",
        "  for i in range(len(T)):\n",
        "    vizinhos.extend(moveRainha(T,i))\n",
        "  return vizinhos\n",
        "\n",
        "# todosVizinhos(tabuleiro(8,1)[0])"
      ],
      "metadata": {
        "id": "ULBgQACLxYeZ"
      },
      "execution_count": null,
      "outputs": []
    },
    {
      "cell_type": "code",
      "source": [
        "def umVizinho(T):\n",
        "  return choice(todosVizinhos(T))\n",
        "\n",
        "# tab = tabuleiro(8,1)[0]\n",
        "# print(tab)\n",
        "# print(umVizinho(tab))"
      ],
      "metadata": {
        "id": "QAwyIByZwtRA"
      },
      "execution_count": null,
      "outputs": []
    },
    {
      "cell_type": "code",
      "source": [
        "def numeroAtaques(T):\n",
        "  ataques = 0\n",
        "  for i in range(len(T)):\n",
        "    for j in range(i+1, len(T)):\n",
        "      if(T[i] == T[j]): ataques += 1#; print(f'Rainha {i} ataca horizontalmente rainha {j}')\n",
        "      if(abs(T[i] - T[j]) == abs(i - j)): ataques += 1#; print(f'Rainha {i} ataca diagonalmente rainha {j}')\n",
        "  return ataques\n",
        "\n",
        "# tab = tabuleiro(8,1)[0]\n",
        "# print(tab)\n",
        "# print(numeroAtaques(tab))"
      ],
      "metadata": {
        "id": "Z7JPW8yqMnSr"
      },
      "execution_count": null,
      "outputs": []
    },
    {
      "cell_type": "code",
      "source": [
        "a = [1]\n",
        "l = [a for i in range(2)]\n",
        "l"
      ],
      "metadata": {
        "colab": {
          "base_uri": "https://localhost:8080/"
        },
        "id": "iWQ0BUBw0HJh",
        "outputId": "9a9fe917-5cfa-443a-b409-1647a58ea28c"
      },
      "execution_count": null,
      "outputs": [
        {
          "output_type": "execute_result",
          "data": {
            "text/plain": [
              "[[1], [1]]"
            ]
          },
          "metadata": {},
          "execution_count": 28
        }
      ]
    },
    {
      "cell_type": "code",
      "source": [
        "l[0][0] = 2\n",
        "l"
      ],
      "metadata": {
        "colab": {
          "base_uri": "https://localhost:8080/"
        },
        "id": "54w7u9040PQ5",
        "outputId": "a5fb3657-5ffa-43a3-b068-882f48ba11fd"
      },
      "execution_count": null,
      "outputs": [
        {
          "output_type": "execute_result",
          "data": {
            "text/plain": [
              "[[2], [2]]"
            ]
          },
          "metadata": {},
          "execution_count": 29
        }
      ]
    }
  ]
}