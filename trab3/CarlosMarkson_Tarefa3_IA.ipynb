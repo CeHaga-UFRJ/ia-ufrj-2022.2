{
  "cells": [
    {
      "cell_type": "code",
      "execution_count": 457,
      "metadata": {
        "id": "jKN4n1UqwTky"
      },
      "outputs": [],
      "source": [
        "from random import randint, choice, random"
      ]
    },
    {
      "cell_type": "code",
      "execution_count": 458,
      "metadata": {
        "colab": {
          "base_uri": "https://localhost:8080/"
        },
        "id": "sInVvI9FvxHl",
        "outputId": "5058ce3a-f39d-4e8d-9cae-c9274d9d0663"
      },
      "outputs": [],
      "source": [
        "def tabuleiro(tamanho, quantidade):\n",
        "  return [[randint(0,tamanho-1) for j in range(tamanho)] for i in range(quantidade)]\n",
        "\n",
        "# tabuleiro(8,10)"
      ]
    },
    {
      "cell_type": "code",
      "execution_count": 459,
      "metadata": {
        "id": "ULBgQACLxYeZ"
      },
      "outputs": [],
      "source": [
        "def moveRainha(l,i):\n",
        "  return [l[:i] + [k] + l[i+1:] for k in range(0,len(l)) if k != l[i]]\n",
        "\n",
        "def todosVizinhos(T):\n",
        "  vizinhos = []\n",
        "  for i in range(len(T)):\n",
        "    vizinhos.extend(moveRainha(T,i))\n",
        "  return vizinhos\n",
        "\n",
        "# todosVizinhos(tabuleiro(8,1)[0])"
      ]
    },
    {
      "cell_type": "code",
      "execution_count": 460,
      "metadata": {
        "id": "QAwyIByZwtRA"
      },
      "outputs": [],
      "source": [
        "def umVizinho(T):\n",
        "  return choice(todosVizinhos(T))\n",
        "\n",
        "# tab = tabuleiro(8,1)[0]\n",
        "# print(tab)\n",
        "# print(umVizinho(tab))"
      ]
    },
    {
      "cell_type": "code",
      "execution_count": 461,
      "metadata": {
        "id": "Z7JPW8yqMnSr"
      },
      "outputs": [],
      "source": [
        "def numeroAtaques(T):\n",
        "  ataques = 0\n",
        "  for i in range(len(T)):\n",
        "    for j in range(i+1, len(T)):\n",
        "      if(T[i] == T[j]): ataques += 1#; print(f'Rainha {i} ataca horizontalmente rainha {j}')\n",
        "      if(abs(T[i] - T[j]) == abs(i - j)): ataques += 1#; print(f'Rainha {i} ataca diagonalmente rainha {j}')\n",
        "  return ataques\n",
        "\n",
        "# tab = tabuleiro(8,1)[0]\n",
        "# print(tab)\n",
        "# print(numeroAtaques(tab))"
      ]
    },
    {
      "cell_type": "code",
      "execution_count": 462,
      "metadata": {},
      "outputs": [],
      "source": [
        "def inteiro_para_gene(inteiro):\n",
        "    binario = bin(inteiro)[2:]\n",
        "    return '0'*(tamanho_gene - len(binario)) + binario"
      ]
    },
    {
      "cell_type": "code",
      "execution_count": 463,
      "metadata": {},
      "outputs": [],
      "source": [
        "def gera_populacao(n):\n",
        "  tabuleiros = tabuleiro(tamanho_tabuleiro, n)\n",
        "  cromossomos = [\"\".join([inteiro_para_gene(i) for i in tabuleiros[j]]) for j in range(n)]\n",
        "  return cromossomos"
      ]
    },
    {
      "cell_type": "code",
      "execution_count": 464,
      "metadata": {},
      "outputs": [],
      "source": [
        "# gera_populacao(5)"
      ]
    },
    {
      "cell_type": "code",
      "execution_count": 465,
      "metadata": {},
      "outputs": [],
      "source": [
        "def cromossomo_para_tabuleiro(cromossomo):\n",
        "  tabuleiro = []\n",
        "  for i in range(0, len(cromossomo), tamanho_gene):\n",
        "    tabuleiro.append(int(cromossomo[i:i+tamanho_gene], 2))\n",
        "  return tabuleiro"
      ]
    },
    {
      "cell_type": "code",
      "execution_count": 466,
      "metadata": {},
      "outputs": [],
      "source": [
        "# cromossomo_para_tabuleiro('001111111010011010000000')"
      ]
    },
    {
      "cell_type": "code",
      "execution_count": 467,
      "metadata": {},
      "outputs": [],
      "source": [
        "def adaptacao(cromossomo):\n",
        "  tabuleiro = cromossomo_para_tabuleiro(cromossomo)\n",
        "  maximo_ataques = tamanho_tabuleiro * (tamanho_tabuleiro - 1) / 2\n",
        "  # return 1/(1 + numeroAtaques(tabuleiro))\n",
        "  return (maximo_ataques - numeroAtaques(tabuleiro)) / maximo_ataques"
      ]
    },
    {
      "cell_type": "code",
      "execution_count": 468,
      "metadata": {},
      "outputs": [],
      "source": [
        "# print(adaptacao('001111111010011010000000'))\n",
        "# print(adaptacao('000000000000000000000000'))\n",
        "# print(adaptacao('111111111111111111111111'))"
      ]
    },
    {
      "cell_type": "code",
      "execution_count": 469,
      "metadata": {},
      "outputs": [],
      "source": [
        "def roleta(populacao):\n",
        "  soma = sum([adaptacao(cromossomo) for cromossomo in populacao])\n",
        "  probabilidade = []\n",
        "  for i in range(len(populacao)):\n",
        "    probabilidade.append(adaptacao(populacao[i]) / soma)\n",
        "    if i > 0:\n",
        "      probabilidade[i] += probabilidade[i - 1]\n",
        "\n",
        "  return probabilidade"
      ]
    },
    {
      "cell_type": "code",
      "execution_count": 470,
      "metadata": {},
      "outputs": [],
      "source": [
        "# roleta(['110000011000010111011011',\n",
        "#  '100100111000010101011000',\n",
        "#  '111001000000010111000011',\n",
        "#  '110101010101010100010111',\n",
        "#  '000000000000000000000000'])"
      ]
    },
    {
      "cell_type": "code",
      "execution_count": 471,
      "metadata": {},
      "outputs": [],
      "source": [
        "def selecao(populacao):\n",
        "  probabilidade = roleta(populacao)\n",
        "  selecionados = []\n",
        "  for i in range(len(populacao)):\n",
        "    r = random()\n",
        "    for j in range(len(probabilidade)):\n",
        "      if r <= probabilidade[j]:\n",
        "        selecionados.append(populacao[j])\n",
        "        break\n",
        "  return selecionados"
      ]
    },
    {
      "cell_type": "code",
      "execution_count": 472,
      "metadata": {},
      "outputs": [],
      "source": [
        "# selecao(['110000011000010111011011',\n",
        "#  '100100111000010101011000',\n",
        "#  '111001000000010111000011',\n",
        "#  '110101010101010100010111',\n",
        "#  '000000000000000000000000'])"
      ]
    },
    {
      "cell_type": "code",
      "execution_count": 473,
      "metadata": {},
      "outputs": [],
      "source": [
        "def crossover(pai, mae):\n",
        "  corte = randint(1, tamanho_cromossomo - 1)\n",
        "  filho1 = pai[:corte] + mae[corte:]\n",
        "  filho2 = mae[:corte] + pai[corte:]\n",
        "  return filho1, filho2"
      ]
    },
    {
      "cell_type": "code",
      "execution_count": 474,
      "metadata": {},
      "outputs": [],
      "source": [
        "# crossover('000000000000000000000000', '111111111111111111111111')"
      ]
    },
    {
      "cell_type": "code",
      "execution_count": 475,
      "metadata": {},
      "outputs": [],
      "source": [
        "def mutacao(cromossomo):\n",
        "  posicao = randint(0, tamanho_cromossomo - 1)\n",
        "  cromossomo = cromossomo[:posicao] + str(1 - int(cromossomo[posicao])) + cromossomo[posicao + 1:]\n",
        "  return cromossomo"
      ]
    },
    {
      "cell_type": "code",
      "execution_count": 476,
      "metadata": {},
      "outputs": [],
      "source": [
        "# mutacao('000000000000000000000000')"
      ]
    },
    {
      "cell_type": "code",
      "execution_count": 477,
      "metadata": {},
      "outputs": [],
      "source": [
        "# mutacao('111111111111111111111111')"
      ]
    },
    {
      "cell_type": "code",
      "execution_count": 478,
      "metadata": {},
      "outputs": [],
      "source": [
        "def seleciona_elite(populacao):\n",
        "  populacao = sorted(populacao, key = adaptacao, reverse = True)\n",
        "  return populacao[0]"
      ]
    },
    {
      "cell_type": "code",
      "execution_count": 479,
      "metadata": {},
      "outputs": [],
      "source": [
        "# seleciona_elite(['110000011000010111011011',\n",
        "#  '100100111000010101011000',\n",
        "#  '111001000000010111000011',\n",
        "#  '110101010101010100010111',\n",
        "#  '000000000000000000000000'])"
      ]
    },
    {
      "cell_type": "code",
      "execution_count": 480,
      "metadata": {},
      "outputs": [],
      "source": [
        "def algoritmoGenetico(tamanho_populacao, n_geracoes, prob_crossover, prob_mutacao, elitismo = False):\n",
        "  populacao = gera_populacao(tamanho_populacao) # Gera a população inicial\n",
        "  for i in range(n_geracoes):\n",
        "    populacao_intermediaria = selecao(populacao) # Seleciona os indivíduos da população\n",
        "    elite = seleciona_elite(populacao)\n",
        "    #print(adaptacao(elite))\n",
        "    #print(populacao)\n",
        "\n",
        "    populacao = []\n",
        "    for j in range(0, len(populacao_intermediaria) - 1, 2): # Realiza o crossover\n",
        "      if random() < prob_crossover: \n",
        "        filho1, filho2 = crossover(populacao_intermediaria[j], populacao_intermediaria[j + 1])\n",
        "        populacao.append(filho1)\n",
        "        populacao.append(filho2)\n",
        "      else:\n",
        "        populacao.append(populacao_intermediaria[j])\n",
        "        populacao.append(populacao_intermediaria[j + 1])\n",
        "    \n",
        "    if len(populacao_intermediaria) % 2 == 1: # Caso o número de indivíduos seja ímpar\n",
        "      populacao.append(populacao_intermediaria[-1])\n",
        "\n",
        "    for j in range(len(populacao)): # Realiza a mutação\n",
        "      if random() < prob_mutacao:\n",
        "        populacao[j] = mutacao(populacao[j])\n",
        "\n",
        "    if elitismo: \n",
        "      populacao_intermediaria = populacao_intermediaria[:tamanho_populacao - 1] + [elite]\n",
        "\n",
        "  return populacao"
      ]
    },
    {
      "cell_type": "code",
      "execution_count": 500,
      "metadata": {},
      "outputs": [],
      "source": [
        "tamanho_tabuleiro = 8\n",
        "tamanho_gene = len(bin(tamanho_tabuleiro - 1)[2:])\n",
        "tamanho_cromossomo = tamanho_tabuleiro * tamanho_gene"
      ]
    },
    {
      "cell_type": "code",
      "execution_count": 506,
      "metadata": {},
      "outputs": [
        {
          "name": "stdout",
          "output_type": "stream",
          "text": [
            "1.0\n"
          ]
        },
        {
          "data": {
            "text/plain": [
              "[5, 3, 1, 7, 4, 6, 0, 2]"
            ]
          },
          "execution_count": 506,
          "metadata": {},
          "output_type": "execute_result"
        }
      ],
      "source": [
        "populacao = algoritmoGenetico(60, 1500, 0.8, 0.04)\n",
        "elite = seleciona_elite(populacao)\n",
        "valor_elite = adaptacao(elite)\n",
        "print(valor_elite)\n",
        "cromossomo_para_tabuleiro(elite)"
      ]
    }
  ],
  "metadata": {
    "colab": {
      "collapsed_sections": [],
      "provenance": []
    },
    "kernelspec": {
      "display_name": "Python 3.9.12 ('base')",
      "language": "python",
      "name": "python3"
    },
    "language_info": {
      "codemirror_mode": {
        "name": "ipython",
        "version": 3
      },
      "file_extension": ".py",
      "mimetype": "text/x-python",
      "name": "python",
      "nbconvert_exporter": "python",
      "pygments_lexer": "ipython3",
      "version": "3.9.12"
    },
    "vscode": {
      "interpreter": {
        "hash": "54cd7126b745c6c956fcc595fa2a3a76a06e0eb8b29af4a88ac8da3e9c78c2ca"
      }
    }
  },
  "nbformat": 4,
  "nbformat_minor": 0
}
